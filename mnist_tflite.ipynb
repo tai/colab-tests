{
  "nbformat": 4,
  "nbformat_minor": 0,
  "metadata": {
    "colab": {
      "name": "mnist-tflite.ipynb",
      "provenance": [],
      "toc_visible": true,
      "authorship_tag": "ABX9TyMVrxSKXHq1XileaDHHiFW9",
      "include_colab_link": true
    },
    "kernelspec": {
      "name": "python3",
      "display_name": "Python 3"
    }
  },
  "cells": [
    {
      "cell_type": "markdown",
      "metadata": {
        "id": "view-in-github",
        "colab_type": "text"
      },
      "source": [
        "<a href=\"https://colab.research.google.com/github/tai/colab-tests/blob/main/mnist_tflite.ipynb\" target=\"_parent\"><img src=\"https://colab.research.google.com/assets/colab-badge.svg\" alt=\"Open In Colab\"/></a>"
      ]
    },
    {
      "cell_type": "markdown",
      "metadata": {
        "id": "1hoBqu-6HrSY"
      },
      "source": [
        "# MNIST on TFLite on Colab"
      ]
    },
    {
      "cell_type": "code",
      "metadata": {
        "id": "QA8f8LPXHxRY"
      },
      "source": [
        "import sys\n",
        "import os\n",
        "\n",
        "import numpy as np\n",
        "import matplotlib.pyplot as plt\n",
        "from matplotlib import cm"
      ],
      "execution_count": null,
      "outputs": []
    },
    {
      "cell_type": "code",
      "metadata": {
        "colab": {
          "base_uri": "https://localhost:8080/",
          "height": 35
        },
        "id": "X8bNlEZnH1td",
        "outputId": "27643236-5c3c-4453-9c9b-e78a31df8c62"
      },
      "source": [
        "import tensorflow as tf\n",
        "tf.version.VERSION"
      ],
      "execution_count": null,
      "outputs": [
        {
          "output_type": "execute_result",
          "data": {
            "application/vnd.google.colaboratory.intrinsic+json": {
              "type": "string"
            },
            "text/plain": [
              "'2.3.0'"
            ]
          },
          "metadata": {
            "tags": []
          },
          "execution_count": 2
        }
      ]
    },
    {
      "cell_type": "code",
      "metadata": {
        "colab": {
          "base_uri": "https://localhost:8080/"
        },
        "id": "IQl8uiqgIX3Z",
        "outputId": "2666297a-9a2d-46e3-d47d-62dae0fcacda"
      },
      "source": [
        "# 画像データのロード\n",
        "ret = np.load(\"mnist-test-100.npz\")\n",
        "x_test = ret['arr_0']\n",
        "x_test.shape"
      ],
      "execution_count": 9,
      "outputs": [
        {
          "output_type": "execute_result",
          "data": {
            "text/plain": [
              "(100, 28, 28, 1)"
            ]
          },
          "metadata": {
            "tags": []
          },
          "execution_count": 9
        }
      ]
    },
    {
      "cell_type": "code",
      "metadata": {
        "id": "PlBBHpt_IX6u"
      },
      "source": [
        "# TFliteモデルのロード\n",
        "interpreter = tf.lite.Interpreter(model_path=\"mnist-model.tflite\")\n",
        "interpreter.allocate_tensors()"
      ],
      "execution_count": 10,
      "outputs": []
    },
    {
      "cell_type": "code",
      "metadata": {
        "id": "Z3pblmSBIX_R",
        "colab": {
          "base_uri": "https://localhost:8080/"
        },
        "outputId": "7ea9ebe6-17b6-461a-e6f9-a6b7f5f7f98d"
      },
      "source": [
        "# モデルの入出力情報の取得\n",
        "input_details = interpreter.get_input_details()\n",
        "output_details = interpreter.get_output_details()\n",
        "\n",
        "input_details"
      ],
      "execution_count": 11,
      "outputs": [
        {
          "output_type": "execute_result",
          "data": {
            "text/plain": [
              "[{'dtype': numpy.float32,\n",
              "  'index': 0,\n",
              "  'name': 'conv2d_input',\n",
              "  'quantization': (0.0, 0),\n",
              "  'quantization_parameters': {'quantized_dimension': 0,\n",
              "   'scales': array([], dtype=float32),\n",
              "   'zero_points': array([], dtype=int32)},\n",
              "  'shape': array([ 1, 28, 28,  1], dtype=int32),\n",
              "  'shape_signature': array([-1, 28, 28,  1], dtype=int32),\n",
              "  'sparsity_parameters': {}}]"
            ]
          },
          "metadata": {
            "tags": []
          },
          "execution_count": 11
        }
      ]
    },
    {
      "cell_type": "code",
      "metadata": {
        "colab": {
          "base_uri": "https://localhost:8080/"
        },
        "id": "9SShj-xbKKT3",
        "outputId": "9db7c9d3-7338-4231-a8d8-6bed2bd0ea6b"
      },
      "source": [
        "# 画像をどれか１つ選ぶ\n",
        "img = x_test[0].reshape((-1, 28, 28, 1))\n",
        "img.shape"
      ],
      "execution_count": 12,
      "outputs": [
        {
          "output_type": "execute_result",
          "data": {
            "text/plain": [
              "(1, 28, 28, 1)"
            ]
          },
          "metadata": {
            "tags": []
          },
          "execution_count": 12
        }
      ]
    },
    {
      "cell_type": "code",
      "metadata": {
        "id": "LZQU7cM8KMpB"
      },
      "source": [
        "# set input\n",
        "interpreter.set_tensor(input_details[0]['index'], img.astype(np.float32))\n"
      ],
      "execution_count": 13,
      "outputs": []
    },
    {
      "cell_type": "code",
      "metadata": {
        "id": "I9qR-5C0KQS8"
      },
      "source": [
        "# do inference\n",
        "interpreter.invoke()"
      ],
      "execution_count": 14,
      "outputs": []
    },
    {
      "cell_type": "code",
      "metadata": {
        "id": "Csq4gHoEKSOh"
      },
      "source": [
        "# get result\n",
        "output_data = interpreter.get_tensor(output_details[0]['index'])"
      ],
      "execution_count": 15,
      "outputs": []
    },
    {
      "cell_type": "code",
      "metadata": {
        "colab": {
          "base_uri": "https://localhost:8080/",
          "height": 264
        },
        "id": "sg4OaiRhKUAa",
        "outputId": "5637896d-3b31-490d-bd1c-5a8ad74ee2b2"
      },
      "source": [
        "def show_result(img, data):\n",
        "    answer = np.argmax(output_data[0])\n",
        "    score = output_data[0][answer] * 100\n",
        "\n",
        "    fig, ax = plt.subplots(1, 1, figsize=(4, 4))\n",
        "    ax.axis('off')\n",
        "    ax.title.set_fontsize(16)\n",
        "    ax.set_title('ans={}, score={:.1f}'.format(answer, score))\n",
        "    ax.imshow(img.reshape(28, 28), cmap=cm.gray_r)\n",
        "\n",
        "show_result(img, output_data)"
      ],
      "execution_count": 16,
      "outputs": [
        {
          "output_type": "display_data",
          "data": {
            "image/png": "[encoded data removed]",
            "text/plain": [
              "<Figure size 288x288 with 1 Axes>"
            ]
          },
          "metadata": {
            "tags": [],
            "needs_background": "light"
          }
        }
      ]
    },
    {
      "cell_type": "code",
      "metadata": {
        "id": "5OqrLX71KWD9"
      },
      "source": [
        ""
      ],
      "execution_count": null,
      "outputs": []
    }
  ]
}