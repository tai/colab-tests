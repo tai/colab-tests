{
  "nbformat": 4,
  "nbformat_minor": 0,
  "metadata": {
    "colab": {
      "name": "mnist-on-colab",
      "provenance": [],
      "collapsed_sections": [],
      "mount_file_id": "1kvYaNRVTDyXBdGSJecDiaUSFhEHH4pnt",
      "authorship_tag": "ABX9TyNa2DeggLW/ZGJkcTYJYQS0",
      "include_colab_link": true
    },
    "kernelspec": {
      "name": "python3",
      "display_name": "Python 3"
    },
    "accelerator": "GPU"
  },
  "cells": [
    {
      "cell_type": "markdown",
      "metadata": {
        "id": "view-in-github",
        "colab_type": "text"
      },
      "source": [
        "<a href=\"https://colab.research.google.com/github/tai/colab-tests/blob/main/mnist_on_colab.ipynb\" target=\"_parent\"><img src=\"https://colab.research.google.com/assets/colab-badge.svg\" alt=\"Open In Colab\"/></a>"
      ]
    },
    {
      "cell_type": "markdown",
      "metadata": {
        "id": "iPTEHMYoFvDC"
      },
      "source": [
        "## MNIST test on Colab"
      ]
    },
    {
      "cell_type": "code",
      "metadata": {
        "id": "d47jrKbeFvam"
      },
      "source": [
        "import os\n",
        "import sys\n",
        "import numpy as np\n",
        "\n",
        "import matplotlib.pyplot as plt\n",
        "from matplotlib import cm"
      ],
      "execution_count": 16,
      "outputs": []
    },
    {
      "cell_type": "code",
      "metadata": {
        "id": "6xTa2qJu444q"
      },
      "source": [
        "import tensorflow as tf\n",
        "from tensorflow import keras\n",
        "\n",
        "from tensorflow.keras.datasets import mnist\n",
        "from tensorflow.keras.models import Sequential\n",
        "from tensorflow.keras.layers import Dense, Dropout, Flatten\n",
        "from tensorflow.keras.layers import Conv2D, MaxPooling2D\n",
        "from tensorflow.keras import backend as K"
      ],
      "execution_count": null,
      "outputs": []
    },
    {
      "cell_type": "markdown",
      "metadata": {
        "id": "ZxnfYscdFp5h"
      },
      "source": [
        "## Load training/test data and train the model"
      ]
    },
    {
      "cell_type": "code",
      "metadata": {
        "colab": {
          "base_uri": "https://localhost:8080/"
        },
        "id": "9jQen3Qq447e",
        "outputId": "ed3e8c3a-7cde-460b-cf6a-4aff39de0bda"
      },
      "source": [
        "batch_size = 128\n",
        "num_classes = 10\n",
        "epochs = 12\n",
        "\n",
        "# input image dimensions\n",
        "img_rows, img_cols = 28, 28\n",
        "\n",
        "# the data, split between train and test sets\n",
        "(x_train, y_train), (x_test, y_test) = mnist.load_data()\n",
        "\n",
        "if K.image_data_format() == 'channels_first':\n",
        "        x_train = x_train.reshape(x_train.shape[0], 1, img_rows, img_cols)\n",
        "        x_test = x_test.reshape(x_test.shape[0], 1, img_rows, img_cols)\n",
        "        input_shape = (1, img_rows, img_cols)\n",
        "else:\n",
        "        x_train = x_train.reshape(x_train.shape[0], img_rows, img_cols, 1)\n",
        "        x_test = x_test.reshape(x_test.shape[0], img_rows, img_cols, 1)\n",
        "        input_shape = (img_rows, img_cols, 1)\n",
        "\n",
        "x_train = x_train.astype('float32')\n",
        "x_test = x_test.astype('float32')\n",
        "x_train /= 255\n",
        "x_test /= 255\n",
        "print('x_train shape:', x_train.shape)\n",
        "print(x_train.shape[0], 'train samples')\n",
        "print(x_test.shape[0], 'test samples')\n",
        "\n",
        "# convert class vectors to binary class matrices\n",
        "y_train = keras.utils.to_categorical(y_train, num_classes)\n",
        "y_test = keras.utils.to_categorical(y_test, num_classes)\n",
        "\n",
        "model = Sequential()\n",
        "model.add(Conv2D(32, kernel_size=(3, 3),\n",
        "                                 activation='relu',\n",
        "                                 input_shape=input_shape))\n",
        "model.add(Conv2D(64, (3, 3), activation='relu'))\n",
        "model.add(MaxPooling2D(pool_size=(2, 2)))\n",
        "model.add(Dropout(0.25))\n",
        "model.add(Flatten())\n",
        "model.add(Dense(128, activation='relu'))\n",
        "model.add(Dropout(0.5))\n",
        "model.add(Dense(num_classes, activation='softmax'))\n",
        "\n",
        "model.compile(loss=keras.losses.categorical_crossentropy,\n",
        "                          optimizer=keras.optimizers.Adadelta(),\n",
        "                          metrics=['accuracy'])\n",
        "\n",
        "model.fit(x_train, y_train,\n",
        "                  batch_size=batch_size,\n",
        "                  epochs=epochs,\n",
        "                  verbose=1,\n",
        "                  validation_data=(x_test, y_test))\n",
        "score = model.evaluate(x_test, y_test, verbose=0)\n",
        "print('Test loss:', score[0])\n",
        "print('Test accuracy:', score[1])"
      ],
      "execution_count": null,
      "outputs": [
        {
          "output_type": "stream",
          "text": [
            "Downloading data from https://storage.googleapis.com/tensorflow/tf-keras-datasets/mnist.npz\n",
            "11493376/11490434 [==============================] - 0s 0us/step\n",
            "x_train shape: (60000, 28, 28, 1)\n",
            "60000 train samples\n",
            "10000 test samples\n",
            "Epoch 1/12\n",
            "469/469 [==============================] - 4s 9ms/step - loss: 2.2839 - accuracy: 0.1489 - val_loss: 2.2534 - val_accuracy: 0.2867\n",
            "Epoch 2/12\n",
            "469/469 [==============================] - 4s 8ms/step - loss: 2.2368 - accuracy: 0.2534 - val_loss: 2.1968 - val_accuracy: 0.5015\n",
            "Epoch 3/12\n",
            "469/469 [==============================] - 4s 8ms/step - loss: 2.1779 - accuracy: 0.3528 - val_loss: 2.1215 - val_accuracy: 0.5788\n",
            "Epoch 4/12\n",
            "469/469 [==============================] - 4s 8ms/step - loss: 2.0977 - accuracy: 0.4304 - val_loss: 2.0183 - val_accuracy: 0.6197\n",
            "Epoch 5/12\n",
            "469/469 [==============================] - 4s 8ms/step - loss: 1.9879 - accuracy: 0.4923 - val_loss: 1.8778 - val_accuracy: 0.6724\n",
            "Epoch 6/12\n",
            "469/469 [==============================] - 4s 8ms/step - loss: 1.8480 - accuracy: 0.5388 - val_loss: 1.6966 - val_accuracy: 0.7313\n",
            "Epoch 7/12\n",
            "469/469 [==============================] - 4s 8ms/step - loss: 1.6785 - accuracy: 0.5827 - val_loss: 1.4883 - val_accuracy: 0.7637\n",
            "Epoch 8/12\n",
            "469/469 [==============================] - 4s 8ms/step - loss: 1.4983 - accuracy: 0.6153 - val_loss: 1.2789 - val_accuracy: 0.7889\n",
            "Epoch 9/12\n",
            "469/469 [==============================] - 4s 8ms/step - loss: 1.3305 - accuracy: 0.6420 - val_loss: 1.0944 - val_accuracy: 0.8035\n",
            "Epoch 10/12\n",
            "469/469 [==============================] - 4s 8ms/step - loss: 1.2002 - accuracy: 0.6618 - val_loss: 0.9488 - val_accuracy: 0.8151\n",
            "Epoch 11/12\n",
            "469/469 [==============================] - 4s 8ms/step - loss: 1.0908 - accuracy: 0.6843 - val_loss: 0.8382 - val_accuracy: 0.8249\n",
            "Epoch 12/12\n",
            "469/469 [==============================] - 4s 8ms/step - loss: 1.0065 - accuracy: 0.7033 - val_loss: 0.7551 - val_accuracy: 0.8345\n",
            "Test loss: 0.7550886273384094\n",
            "Test accuracy: 0.8345000147819519\n"
          ],
          "name": "stdout"
        }
      ]
    },
    {
      "cell_type": "markdown",
      "metadata": {
        "id": "p8mrxtBOFf8Y"
      },
      "source": [
        "## Identify test images"
      ]
    },
    {
      "cell_type": "code",
      "metadata": {
        "colab": {
          "base_uri": "https://localhost:8080/",
          "height": 264
        },
        "id": "7H1ODLoJ44-L",
        "outputId": "57632cca-5575-408e-d1d3-cc7afb4a1f99"
      },
      "source": [
        "def predict(model, img):\n",
        "    pred = model.predict(img)\n",
        "    ans = np.argmax(pred)\n",
        "    score = np.max(pred) * 100\n",
        "\n",
        "    fig, ax = plt.subplots(1, 1, figsize=(4, 4))\n",
        "    ax.axis('off')\n",
        "    ax.title.set_fontsize(16)\n",
        "    ax.set_title('ans={}, score={:.2f}'.format(ans, score))\n",
        "    ax.imshow(img.reshape(28, 28), cmap=cm.gray_r)\n",
        "\n",
        "predict(model, x_test[0].reshape((-1, 28, 28, 1)))"
      ],
      "execution_count": null,
      "outputs": [
        {
          "output_type": "display_data",
          "data": {
            "image/png": "[encoded data removed]",
            "text/plain": [
              "<Figure size 288x288 with 1 Axes>"
            ]
          },
          "metadata": {
            "tags": [],
            "needs_background": "light"
          }
        }
      ]
    },
    {
      "cell_type": "markdown",
      "metadata": {
        "id": "L-5H5b5vF531"
      },
      "source": [
        "## Save trained model data"
      ]
    },
    {
      "cell_type": "code",
      "metadata": {
        "id": "XFGX9WE945A9"
      },
      "source": [
        "# Save in HDF5 format (Keras style)\n",
        "model.save(\"mnist-model.h5\")"
      ],
      "execution_count": 18,
      "outputs": []
    },
    {
      "cell_type": "code",
      "metadata": {
        "id": "pvOYtvVw45Dw",
        "colab": {
          "base_uri": "https://localhost:8080/"
        },
        "outputId": "c893f95a-d28f-40b7-9472-c54671bf7ab6"
      },
      "source": [
        "# Save TFLite model\n",
        "livecv = tf.compat.v1.lite.TFLiteConverter.from_keras_model_file(\"mnist-model.h5\")\n",
        "tflite_model = livecv.convert()\n",
        "with open(\"mnist-model.tflite\", \"wb\") as f: f.write(tflite_model)"
      ],
      "execution_count": 20,
      "outputs": [
        {
          "output_type": "stream",
          "text": [
            "WARNING:tensorflow:From /usr/local/lib/python3.6/dist-packages/tensorflow/lite/python/lite.py:1488: set_learning_phase (from tensorflow.python.keras.backend) is deprecated and will be removed after 2020-10-11.\n",
            "Instructions for updating:\n",
            "Simply pass a True/False value to the `training` argument of the `__call__` method of your layer or model.\n",
            "WARNING:tensorflow:From /usr/local/lib/python3.6/dist-packages/tensorflow/python/training/tracking/tracking.py:111: Model.state_updates (from tensorflow.python.keras.engine.training) is deprecated and will be removed in a future version.\n",
            "Instructions for updating:\n",
            "This property should not be used in TensorFlow 2.0, as updates are applied automatically.\n",
            "WARNING:tensorflow:From /usr/local/lib/python3.6/dist-packages/tensorflow/python/training/tracking/tracking.py:111: Layer.updates (from tensorflow.python.keras.engine.base_layer) is deprecated and will be removed in a future version.\n",
            "Instructions for updating:\n",
            "This property should not be used in TensorFlow 2.0, as updates are applied automatically.\n",
            "INFO:tensorflow:Assets written to: /tmp/tmpa0jy7x0c/assets\n",
            "WARNING:tensorflow:From /usr/local/lib/python3.6/dist-packages/tensorflow/lite/python/convert_saved_model.py:60: load (from tensorflow.python.saved_model.loader_impl) is deprecated and will be removed in a future version.\n",
            "Instructions for updating:\n",
            "This function will only be available through the v1 compatibility library as tf.compat.v1.saved_model.loader.load or tf.compat.v1.saved_model.load. There will be a new function for importing SavedModels in Tensorflow 2.0.\n",
            "INFO:tensorflow:Restoring parameters from /tmp/tmpa0jy7x0c/variables/variables\n",
            "INFO:tensorflow:The given SavedModel MetaGraphDef contains SignatureDefs with the following keys: {'serving_default', '__saved_model_init_op'}\n",
            "INFO:tensorflow:input tensors info: \n",
            "INFO:tensorflow:Tensor's key in saved_model's tensor_map: conv2d_input\n",
            "INFO:tensorflow: tensor name: serving_default_conv2d_input:0, shape: (-1, 28, 28, 1), type: DT_FLOAT\n",
            "INFO:tensorflow:output tensors info: \n",
            "INFO:tensorflow:Tensor's key in saved_model's tensor_map: dense_1\n",
            "INFO:tensorflow: tensor name: StatefulPartitionedCall:0, shape: (-1, 10), type: DT_FLOAT\n",
            "INFO:tensorflow:Restoring parameters from /tmp/tmpa0jy7x0c/variables/variables\n",
            "WARNING:tensorflow:From /usr/local/lib/python3.6/dist-packages/tensorflow/lite/python/util.py:275: convert_variables_to_constants (from tensorflow.python.framework.graph_util_impl) is deprecated and will be removed in a future version.\n",
            "Instructions for updating:\n",
            "Use `tf.compat.v1.graph_util.convert_variables_to_constants`\n",
            "WARNING:tensorflow:From /usr/local/lib/python3.6/dist-packages/tensorflow/python/framework/convert_to_constants.py:854: extract_sub_graph (from tensorflow.python.framework.graph_util_impl) is deprecated and will be removed in a future version.\n",
            "Instructions for updating:\n",
            "Use `tf.compat.v1.graph_util.extract_sub_graph`\n"
          ],
          "name": "stdout"
        }
      ]
    },
    {
      "cell_type": "markdown",
      "metadata": {
        "id": "trWsGauwH6nq"
      },
      "source": [
        "## Save part of test data for faster re-test"
      ]
    },
    {
      "cell_type": "code",
      "metadata": {
        "id": "_e-j5gRAIAJX"
      },
      "source": [
        "np.savez(\"mnist-test-100.npz\", x_test[0:100])"
      ],
      "execution_count": 23,
      "outputs": []
    },
    {
      "cell_type": "code",
      "metadata": {
        "id": "va330gtN45H3",
        "colab": {
          "base_uri": "https://localhost:8080/"
        },
        "outputId": "cc5b1e8b-8b7c-461b-9933-3ff487568821"
      },
      "source": [
        "!ls -l"
      ],
      "execution_count": 24,
      "outputs": [
        {
          "output_type": "stream",
          "text": [
            "total 19112\n",
            "drwx------ 4 root root     4096 Dec  6 03:35 drive\n",
            "-rw-r--r-- 1 root root 14441344 Dec  6 03:29 mnist-model.h5\n",
            "-rw-r--r-- 1 root root  4802340 Dec  6 03:30 mnist-model.tflite\n",
            "-rw-r--r-- 1 root root   313864 Dec  6 03:37 mnist-test-100.npz\n",
            "drwxr-xr-x 1 root root     4096 Dec  2 22:04 sample_data\n"
          ],
          "name": "stdout"
        }
      ]
    }
  ]
}